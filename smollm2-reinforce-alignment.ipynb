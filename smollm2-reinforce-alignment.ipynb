{
 "cells": [
  {
   "cell_type": "markdown",
   "id": "d19ee85c",
   "metadata": {},
   "source": [
    "*Загрузим необходимые пакеты*"
   ]
  },
  {
   "cell_type": "code",
   "execution_count": 13,
   "id": "15752129",
   "metadata": {},
   "outputs": [
    {
     "name": "stderr",
     "output_type": "stream",
     "text": [
      "huggingface/tokenizers: The current process just got forked, after parallelism has already been used. Disabling parallelism to avoid deadlocks...\n",
      "To disable this warning, you can either:\n",
      "\t- Avoid using `tokenizers` before the fork if possible\n",
      "\t- Explicitly set the environment variable TOKENIZERS_PARALLELISM=(true | false)\n"
     ]
    },
    {
     "name": "stdout",
     "output_type": "stream",
     "text": [
      "Note: you may need to restart the kernel to use updated packages.\n"
     ]
    }
   ],
   "source": [
    "%pip install -q torch transformers datasets accelerate peft bitsandbytes trl wandb transformers"
   ]
  },
  {
   "cell_type": "markdown",
   "id": "38f14669",
   "metadata": {},
   "source": [
    "# *Level 1*"
   ]
  },
  {
   "cell_type": "markdown",
   "id": "ceebc9d0",
   "metadata": {},
   "source": [
    "*Установим модель и датасет*"
   ]
  },
  {
   "cell_type": "code",
   "execution_count": 7,
   "id": "df3d3f56",
   "metadata": {},
   "outputs": [],
   "source": [
    "import torch\n",
    "from transformers import AutoModelForCausalLM, AutoTokenizer"
   ]
  },
  {
   "cell_type": "code",
   "execution_count": null,
   "id": "b33e8b47",
   "metadata": {},
   "outputs": [
    {
     "name": "stdout",
     "output_type": "stream",
     "text": [
      "<|im_start|>system\n",
      "You are a helpful AI assistant named SmolLM, trained by Hugging Face<|im_end|>\n",
      "<|im_start|>user\n",
      "What is gravity?<|im_end|>\n",
      "\n",
      "<|im_start|>system\n",
      "You are a helpful AI assistant named SmolLM, trained by Hugging Face<|im_end|>\n",
      "<|im_start|>user\n",
      "What is gravity?<|im_end|>\n",
      "<|im_start|>assistant\n",
      "Gravity is a fundamental force of nature that attracts objects with mass towards each other. It is a result of the interaction between mass, energy, and space itself. In the context of our solar system, gravity is responsible for the\n"
     ]
    }
   ],
   "source": [
    "checkpoint = \"HuggingFaceTB/SmolLM2-135M-Instruct\"\n",
    "\n",
    "device = \"cuda\" if torch.cuda.is_available() else \"cpu\"\n",
    "tokenizer = AutoTokenizer.from_pretrained(checkpoint)\n",
    "model = AutoModelForCausalLM.from_pretrained(checkpoint).to(device)\n",
    "\n",
    "messages = [{\"role\": \"user\", \"content\": \"What is gravity?\"}]\n",
    "input_text=tokenizer.apply_chat_template(messages, tokenize=False)\n",
    "print(input_text)\n",
    "inputs = tokenizer.encode(input_text, return_tensors=\"pt\").to(device)\n",
    "outputs = model.generate(inputs, max_new_tokens=50, temperature=0.2, top_p=0.9, do_sample=True)\n",
    "\n",
    "print(tokenizer.decode(outputs[0]))"
   ]
  },
  {
   "cell_type": "code",
   "execution_count": 12,
   "id": "be0baa98",
   "metadata": {},
   "outputs": [
    {
     "name": "stderr",
     "output_type": "stream",
     "text": [
      "Generating train split: 100%|██████████| 7224/7224 [00:00<00:00, 164079.91 examples/s]\n",
      "Generating validation split: 100%|██████████| 373/373 [00:00<00:00, 111223.90 examples/s]"
     ]
    },
    {
     "name": "stdout",
     "output_type": "stream",
     "text": [
      "Train size: 7224, Val size: 373\n",
      "{'prompt': '\\n\\nQuestion: \\nIf I want to pick one signature appetizer to represent each Asian country, what do you suggest? and why？\\n\\nSingapore \\nMalaysia\\nIndonesia \\nCambodia \\nThailand\\nThe Philippines \\nVietnam\\nGuam\\nHawaii \\nKorea \\nJapan \\nTaiwan \\nMacau \\nHong Kong \\nChina\\nIndia \\nTurkey', 'chosen': 'Here are some suggestions for a signature appetizer from each Asian country:\\n\\nSingapore: Chili Crab Buns - a delicious combination of sweet and savory flavors, with a spicy kick from the chili crab sauce.\\n\\nMalaysia: Satay - grilled skewers of meat (usually chicken or beef) served with a delicious peanut sauce.\\n\\nIndonesia: Gado-Gado - a delicious salad made with boiled vegetables, served with a peanut sauce dressing.\\n\\nCambodia: Amok - a traditional Khmer curry, served in a coconut shell and made with fish, lemongrass, and other herbs and spices.\\n\\nThailand: Tom Yum Goong - a spicy and sour soup made with shrimp, lemongrass, and other herbs and spices.\\n\\nThe Philippines: Adobo - a popular Filipino dish made with chicken or pork, cooked in a vinegar-based sauce with garlic, onions, and other spices.\\n\\nVietnam: Nem Nuong - grilled pork meatballs served with lettuce, herbs, and rice paper rolls.\\n\\nGuam: Chamorro Spring Rolls - a unique fusion dish that combines traditional Chamorro ingredients like pork belly and green beans with spring roll ingredients.\\n\\nHawaii: Kalua Pig Sliders - a delicious take on the traditional Hawaiian dish of kalua pig, served on mini buns with a touch of sweetness from the pineapple salsa.\\n\\nKorea: Kimchi - a traditional Korean side dish made with fermented cabbage and other vegetables, seasoned with spices and served as an appetizer.\\n\\nJapan: Edamame - boiled soybeans, seasoned with salt and served as a popular snack.\\n\\nTaiwan: Beef Noodle Soup - a delicious soup made with tender beef, noodles, and a flavorful broth.\\n\\nMacau: Portuguese Chicken - a unique dish that combines Portuguese and Chinese flavors, made with chicken, garlic, and soy sauce.\\n\\nHong Kong: Dim Sum - a variety of small dishes, including steamed buns, dumplings, and other savory treats.\\n\\nChina: Spring Rolls - a popular Chinese appetizer made with a variety of fillings, including vegetables and meat, and served with a dipping sauce.\\n\\nIndia: Chaat - a variety of delicious street food snacks, including gol gappe, aloo tikki, and pani puri.\\n\\nTurkey: Hummus - a popular Middle Eastern appetizer made with chickpeas, tahini, and other ingredients, served with pita bread or vegetables.', 'rejected': 'Here are some signature appetizers that could represent each Asian country:\\n\\nSingapore - Chili Crab: A sweet and spicy crab dish that is a popular street food in Singapore.\\n\\nMalaysia - Satay: Grilled meat skewers served with a peanut sauce, a popular street food found throughout Malaysia.\\n\\nIndonesia - Gado-Gado: A vegetarian dish of boiled vegetables and tofu served with a peanut sauce, a popular street food in Indonesia.\\n\\nCambodia - Amok: A creamy fish curry dish steamed in a banana leaf, a traditional Cambodian dish.\\n\\nThailand - Tom Yum Goong: A spicy and sour soup with shrimp, mushrooms, and lemongrass, a popular Thai appetizer.\\n\\nThe Philippines - Adobo: A vinegar and soy-based dish with chicken or pork, a popular Filipino dish.\\n\\nVietnam - Spring Rolls: Fresh spring rolls with rice paper, filled with vegetables, herbs, and shrimp, a popular Vietnamese appetizer.\\n\\nGuam - Spam Musubi: A Hawaiian dish of Spam (a popular canned meat) and rice wrapped in seaweed, a popular dish in Guam with strong Hawaiian influences.\\n\\nHawaii - Poke: A raw fish salad with soy sauce, sesame oil, and other seasonings, a popular Hawaiian dish.\\n\\nKorea - Kimchi: A fermented cabbage dish with a spicy and sour flavor, a staple in Korean cuisine.\\n\\nJapan - Sushi: Raw fish and rice wrapped in seaweed, a popular Japanese dish.\\n\\nTaiwan - Beef Noodle Soup: A noodle soup with thin slices of beef and a flavorful broth, a popular dish in Taiwan.\\n\\nMacau - Portuguese Egg Tarts: A sweet pastry with a creamy egg filling, a popular dessert in Macau with strong Portuguese influences.\\n\\nHong Kong - Dim Sum: A variety of small dishes, such as steamed buns, dumplings, and rice rolls, a popular tradition in Hong Kong.\\n\\nChina - Kung Pao Chicken: A spicy chicken dish with peanuts and chili peppers, a popular dish in Sichuan province.\\n\\nIndia - Samosas: A fried pastry filled with potatoes and spices, a popular snack in India.\\n\\nTurkey - Hummus: A dip made from chickpeas, tahini, and lemon juice, a popular Middle Eastern dish.', 'chosen_score': 5.0, 'rejected_score': 4.0, 'chosen_rationale': 'Random rationales', 'rejected_rationale': 'Random rationales', 'score_diff': 1.0, 'difficulty': 'hard'}\n"
     ]
    },
    {
     "name": "stderr",
     "output_type": "stream",
     "text": [
      "\n"
     ]
    }
   ],
   "source": [
    "from datasets import load_dataset\n",
    "\n",
    "ds = load_dataset(\"juyoungml/HelpSteer2-binarized\")\n",
    "\n",
    "train_data = ds[\"train\"]\n",
    "val_data = ds[\"validation\"]\n",
    "\n",
    "print(f\"Train size: {len(train_data)}, Val size: {len(val_data)}\")\n",
    "print(train_data[0])"
   ]
  },
  {
   "cell_type": "markdown",
   "id": "f86cf4cf",
   "metadata": {},
   "source": [
    "*Перейдем к обучению reward модели*"
   ]
  },
  {
   "cell_type": "code",
   "execution_count": null,
   "id": "39b53a3c",
   "metadata": {},
   "outputs": [],
   "source": []
  },
  {
   "cell_type": "code",
   "execution_count": null,
   "id": "0b90885b",
   "metadata": {},
   "outputs": [],
   "source": []
  },
  {
   "cell_type": "code",
   "execution_count": null,
   "id": "8ee3a71c",
   "metadata": {},
   "outputs": [],
   "source": []
  }
 ],
 "metadata": {
  "kernelspec": {
   "display_name": ".venv",
   "language": "python",
   "name": "python3"
  },
  "language_info": {
   "codemirror_mode": {
    "name": "ipython",
    "version": 3
   },
   "file_extension": ".py",
   "mimetype": "text/x-python",
   "name": "python",
   "nbconvert_exporter": "python",
   "pygments_lexer": "ipython3",
   "version": "3.11.12"
  }
 },
 "nbformat": 4,
 "nbformat_minor": 5
}
